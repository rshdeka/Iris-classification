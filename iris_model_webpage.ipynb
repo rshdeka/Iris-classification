{
 "cells": [
  {
   "cell_type": "code",
   "execution_count": 1,
   "id": "74a15bcb",
   "metadata": {},
   "outputs": [],
   "source": [
    "import pandas as pd\n",
    "import streamlit as st\n",
    "from PIL import Image\n",
    "import pickle\n",
    "import warnings\n",
    "warnings.filterwarnings('ignore')"
   ]
  },
  {
   "cell_type": "markdown",
   "id": "dd5823f9",
   "metadata": {},
   "source": [
    "### Get the models from the pickle file"
   ]
  },
  {
   "cell_type": "code",
   "execution_count": 2,
   "id": "646b6257",
   "metadata": {},
   "outputs": [],
   "source": [
    "# Load the models\n",
    "log_model = pickle.load(open(r'C:\\Users\\Rajashri\\Desktop\\Resume\\Resume Projects\\Iris Flower Classification\\log_model.pkl', 'rb'))\n",
    "svm_model = pickle.load(open(r'C:\\Users\\Rajashri\\Desktop\\Resume\\Resume Projects\\Iris Flower Classification\\svm_model.pkl', 'rb'))"
   ]
  },
  {
   "cell_type": "code",
   "execution_count": 4,
   "id": "9b2f4dd7",
   "metadata": {},
   "outputs": [
    {
     "data": {
      "text/plain": [
       "DeltaGenerator(_root_container=0, _provided_cursor=None, _parent=None, _block_type=None, _form_data=None)"
      ]
     },
     "execution_count": 4,
     "metadata": {},
     "output_type": "execute_result"
    }
   ],
   "source": [
    "html_temp = \"\"\" \n",
    "<div style = \"background-color: #f06081; padding: 10px\">\n",
    "<h2 style = \"color: white; text-align: center;\">Iris Flower Classification\n",
    "</div>\n",
    "<div style = \"background-color: white; padding: 5px\">\n",
    "<p style= \"color: #7c4deb; text-align: center; font-family: Courier; font-size: 15px;\"><i>This is an Iris flower classification app!</i></p>\n",
    "</div>\n",
    "\"\"\"\n",
    "st.markdown(html_temp, unsafe_allow_html=True)"
   ]
  },
  {
   "cell_type": "code",
   "execution_count": 5,
   "id": "3740f1dc",
   "metadata": {},
   "outputs": [
    {
     "data": {
      "text/plain": [
       "DeltaGenerator(_root_container=0, _provided_cursor=None, _parent=None, _block_type=None, _form_data=None)"
      ]
     },
     "execution_count": 5,
     "metadata": {},
     "output_type": "execute_result"
    }
   ],
   "source": [
    "image_path = r'C:\\Users\\Rajashri\\Desktop\\Resume\\Resume Projects\\Iris Flower Classification\\iris.png'\n",
    "image = Image.open(image_path)\n",
    "st.image(image, use_column_width=True)"
   ]
  },
  {
   "cell_type": "markdown",
   "id": "7ef2c74d",
   "metadata": {},
   "source": [
    "#### Get the \"class\" of the iris species"
   ]
  },
  {
   "cell_type": "code",
   "execution_count": 6,
   "id": "66d329fa",
   "metadata": {},
   "outputs": [],
   "source": [
    "def classify(num):\n",
    "    if (num < 0.5):\n",
    "        setosa = Image.open(r'C:\\Users\\Rajashri\\Desktop\\Resume\\Resume Projects\\Iris Flower Classification\\setosa.jpg')\n",
    "        st.image(setosa, use_column_width=True)\n",
    "        return 'Iris-setosa'\n",
    "    elif (num < 1.5):\n",
    "        versicolor = Image.open(r'C:\\Users\\Rajashri\\Desktop\\Resume\\Resume Projects\\Iris Flower Classification\\versicolor.jpg')\n",
    "        st.image(versicolor, use_column_width=True)\n",
    "        return 'Iris-versicolor'\n",
    "    else:\n",
    "        verginica = Image.open(r'C:\\Users\\Rajashri\\Desktop\\Resume\\Resume Projects\\Iris Flower Classification\\verginica.jpg')\n",
    "        st.image(verginica, use_column_width=True)\n",
    "        return 'Iris-virginica'"
   ]
  },
  {
   "cell_type": "markdown",
   "id": "88169c2b",
   "metadata": {},
   "source": [
    "#### Create a slider to give user options to select  a model"
   ]
  },
  {
   "cell_type": "code",
   "execution_count": 7,
   "id": "b273a87a",
   "metadata": {},
   "outputs": [
    {
     "data": {
      "text/plain": [
       "DeltaGenerator(_root_container=0, _provided_cursor=None, _parent=None, _block_type=None, _form_data=None)"
      ]
     },
     "execution_count": 7,
     "metadata": {},
     "output_type": "execute_result"
    }
   ],
   "source": [
    "activities = ['Logistic Regression', 'Support Vector Machine (SVM)']\n",
    "option = st.sidebar.selectbox('Select your model of choice: ', activities)\n",
    "st.subheader(option)"
   ]
  },
  {
   "cell_type": "markdown",
   "id": "3638bcb7",
   "metadata": {},
   "source": [
    "#### Create sliders for the input features "
   ]
  },
  {
   "cell_type": "code",
   "execution_count": 8,
   "id": "69090d41",
   "metadata": {},
   "outputs": [],
   "source": [
    "def user_input_features():\n",
    "    sl = st.slider('Sepal Length', 0.0, 8.0)\n",
    "    sw = st.slider('Sepal Width', 0.0, 4.5)\n",
    "    pl = st.slider('Petal Length', 0.0, 7.0)\n",
    "    pw = st.slider('Petal Width', 0.0, 2.5)\n",
    "    inputs = [[sl, sw, pl, pw]]\n",
    "    \n",
    "    features = pd.DataFrame(inputs, index=[0])\n",
    "    features.columns = ['Sepal Length', 'Sepal Width', 'Petal Length', 'Petal Width']\n",
    "    return features"
   ]
  },
  {
   "cell_type": "code",
   "execution_count": 9,
   "id": "a14dc540",
   "metadata": {},
   "outputs": [],
   "source": [
    "df = user_input_features()\n",
    "st.subheader('Input parameters')\n",
    "st.write(df)"
   ]
  },
  {
   "cell_type": "markdown",
   "id": "589a83a7",
   "metadata": {},
   "source": [
    "### Get the class prediction"
   ]
  },
  {
   "cell_type": "code",
   "execution_count": 10,
   "id": "27d23646",
   "metadata": {},
   "outputs": [],
   "source": [
    "def prediction():\n",
    "    if (st.button('Classification Result')):\n",
    "        if (option == 'Logistic Regression'):\n",
    "            st.success(classify(log_model.predict(df)))\n",
    "        else:\n",
    "            st.success(classify(svm_model.predict(df)))\n",
    "prediction()"
   ]
  },
  {
   "cell_type": "markdown",
   "id": "ebfb9b8a",
   "metadata": {},
   "source": [
    "### Get the prediction probabilities for each class"
   ]
  },
  {
   "cell_type": "code",
   "execution_count": 11,
   "id": "abe2233a",
   "metadata": {},
   "outputs": [],
   "source": [
    "def prediction_probability():\n",
    "    if (option == 'Logistic Regression'):\n",
    "        prediction_prob = log_model.predict_proba(df)\n",
    "    else:\n",
    "        prediction_prob =svm_model.predict_proba(df)\n",
    "    \n",
    "    st.subheader('Prediction Probability')\n",
    "    class_info = pd.DataFrame(prediction_prob, index=[0])\n",
    "    class_info.columns = ['Iris-setosa', 'Iris-versicolor', 'Iris-virginica']\n",
    "    st.write(class_info)\n",
    "prediction_probability()"
   ]
  },
  {
   "cell_type": "code",
   "execution_count": 12,
   "id": "5a18f70b",
   "metadata": {},
   "outputs": [
    {
     "data": {
      "text/plain": [
       "DeltaGenerator(_root_container=0, _provided_cursor=None, _parent=None, _block_type=None, _form_data=None)"
      ]
     },
     "execution_count": 12,
     "metadata": {},
     "output_type": "execute_result"
    }
   ],
   "source": [
    "html_temp1 = \"\"\"\n",
    "    <div style = \"background-color: #f27eac\">\n",
    "    <p style = \"color: white; text-align: center;\">Designed & Developed By: <b>Rajashri Deka</b></p>\n",
    "    </div>\n",
    "    \"\"\"\n",
    "st.markdown(html_temp1,unsafe_allow_html=True)"
   ]
  }
 ],
 "metadata": {
  "kernelspec": {
   "display_name": "Python 3 (ipykernel)",
   "language": "python",
   "name": "python3"
  },
  "language_info": {
   "codemirror_mode": {
    "name": "ipython",
    "version": 3
   },
   "file_extension": ".py",
   "mimetype": "text/x-python",
   "name": "python",
   "nbconvert_exporter": "python",
   "pygments_lexer": "ipython3",
   "version": "3.9.12"
  }
 },
 "nbformat": 4,
 "nbformat_minor": 5
}
